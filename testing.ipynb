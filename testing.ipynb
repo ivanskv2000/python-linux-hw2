{
 "cells": [
  {
   "cell_type": "code",
   "execution_count": 212,
   "metadata": {},
   "outputs": [],
   "source": [
    "import re\n",
    "from collections import deque\n",
    "from collections.abc import Iterable\n",
    "from typing import Union"
   ]
  },
  {
   "cell_type": "code",
   "execution_count": 131,
   "metadata": {},
   "outputs": [],
   "source": [
    "class bcolors:\n",
    "  HEADER = '\\033[95m'\n",
    "  OKBLUE = '\\033[94m'\n",
    "  OKCYAN = '\\033[96m'\n",
    "  OKGREEN = '\\033[92m'\n",
    "  WARNING = '\\033[93m'\n",
    "  FAIL = '\\033[91m'\n",
    "  ENDC = '\\033[0m'\n",
    "  BOLD = '\\033[1m'\n",
    "  UNDERLINE = '\\033[4m'"
   ]
  },
  {
   "cell_type": "code",
   "execution_count": 332,
   "metadata": {},
   "outputs": [],
   "source": [
    "class CalculatorError(Exception):\n",
    "    \"\"\"Base class for Calculator exceptions\"\"\"\n",
    "    pass\n",
    "\n",
    "class ParenthesesBalancingError(CalculatorError):\n",
    "    \"\"\"Raised when unbalanced parentheses are found in input\"\"\"\n",
    "    def __init__(self, input_string):\n",
    "        self.input_string = input_string\n",
    "        message = f\"Matching parenthesis not found in input \\'{self.input_string}\\'.\"\n",
    "        super().__init__(message)\n",
    "\n",
    "class UnknownToken(CalculatorError):\n",
    "    \"\"\"Raised when an unknown token is present in math expression\"\"\"\n",
    "    def __init__(self, token):\n",
    "        self.unknown_token = token\n",
    "        message = f\"Couldn't understand token \\'{self.unknown_token}\\'.\"\n",
    "        super().__init__(message)\n",
    "\n",
    "class IncompleteExpression(CalculatorError):\n",
    "    def __init__(self, operator):\n",
    "        self.operator = operator\n",
    "        message = f\"No operand found for operator \\'{self.operator}\\'.\"\n",
    "        super().__init__(message)"
   ]
  },
  {
   "cell_type": "code",
   "execution_count": 333,
   "metadata": {},
   "outputs": [],
   "source": [
    "class Calculator:\n",
    "    precedence_levels = {\n",
    "        \"^\": 9,\n",
    "        #'-' : 9\n",
    "        \"*\": 8,\n",
    "        \"/\": 8,\n",
    "        \"%\": 8,\n",
    "        \"+\": 6,\n",
    "        \"-\": 6,\n",
    "        \"(\": -1,\n",
    "        \")\": None,\n",
    "    }\n",
    "\n",
    "    operators = list(filter(lambda x: x not in [\"(\", \")\"], precedence_levels.keys()))\n",
    "\n",
    "    funcs = {\n",
    "        \"+\": (lambda a, b: a + b),\n",
    "        \"-\": (lambda a, b: a - b),\n",
    "        \"*\": (lambda a, b: a * b),\n",
    "        \"/\": (lambda a, b: a / b),\n",
    "        \"^\": (lambda a, b: a ** b),\n",
    "        \"%\": (lambda a, b: a % b),\n",
    "    }\n",
    "\n",
    "    def __init__(self) -> None:\n",
    "        self.history = []\n",
    "\n",
    "    def get_char_type(self, char) -> str:\n",
    "        \"\"\"\n",
    "        Returns a string denoting the type of char.\n",
    "        \"\"\"\n",
    "        #operators = {\"*\", \"/\", \"+\", \"-\", \"%\", \"/\"}\n",
    "        if char.isdigit() or char == \".\":\n",
    "            char_type = \"number\"\n",
    "        elif char.isalpha():\n",
    "            char_type = \"letter\"\n",
    "        elif char in self.operators:\n",
    "            char_type = \"operator\"\n",
    "        else:\n",
    "            char_type = \"other\"\n",
    "        return char_type\n",
    "\n",
    "    def tokenize(self, string) -> Iterable[str]:\n",
    "        \"\"\"\n",
    "        Generates tokens from a mathematical statement string.\n",
    "        \"\"\"\n",
    "        token_type = self.get_char_type(string[0])\n",
    "        token = ''\n",
    "        for char in re.sub(r'\\s+', \"\", string):\n",
    "            #if char == ' ':\n",
    "            #    continue  # Spaces are not included\n",
    "            new_type = self.get_char_type(char)\n",
    "            if char == '-' and \\\n",
    "                (token_type == 'operator' or token[-1]=='('):\n",
    "                yield token\n",
    "                token_type = 'number'\n",
    "                token = ''\n",
    "            elif new_type != token_type:  # A new type of token has been found \n",
    "                yield token\n",
    "                token_type = new_type\n",
    "                token = ''\n",
    "            token += char\n",
    "        if len(token) > 0:\n",
    "            yield token\n",
    "\n",
    "    def is_float(self, element: str) -> bool:\n",
    "        try:\n",
    "            float(element)\n",
    "            return True\n",
    "        except ValueError:\n",
    "            return False\n",
    "\n",
    "    def int_or_float(self, number: str) -> Union[int, float]:\n",
    "        try:\n",
    "            return int(number)\n",
    "        except ValueError:\n",
    "            return float(number)\n",
    "\n",
    "    def convert_to_rpn(self, input_string) -> list:\n",
    "        output = []\n",
    "        operator_stack = deque()\n",
    "\n",
    "        for token in input_string:\n",
    "            if self.is_float(token):\n",
    "                output.append(token)\n",
    "\n",
    "            elif token in self.operators:\n",
    "                while True:\n",
    "                    if len(operator_stack) == 0:\n",
    "                        break\n",
    "                    if self.precedence_levels[token] > self.precedence_levels[operator_stack[-1]]:\n",
    "                        break\n",
    "\n",
    "                    popped = operator_stack.pop()\n",
    "                    output.append(popped)\n",
    "\n",
    "                operator_stack.append(token)\n",
    "\n",
    "            elif token == '(':\n",
    "                operator_stack.append(token)\n",
    "\n",
    "            elif token == ')':\n",
    "                while True:\n",
    "                    if len(operator_stack) == 0:\n",
    "                        raise ParenthesesBalancingError(''.join(input_string))\n",
    "                    if operator_stack[-1] == '(':\n",
    "                        _ = operator_stack.pop()\n",
    "                        break\n",
    "                    \n",
    "                    popped = operator_stack.pop()\n",
    "                    output.append(popped)\n",
    "\n",
    "            else:\n",
    "                raise UnknownToken(token)\n",
    "\n",
    "        while len(operator_stack) > 0:\n",
    "            stack_popped = operator_stack.pop()\n",
    "            if stack_popped == '(':\n",
    "                raise ParenthesesBalancingError(''.join(input_string))\n",
    "            \n",
    "            output.append(stack_popped)\n",
    "\n",
    "        return output\n",
    "\n",
    "    def eval_rpn(self, rpn_expression: list) -> float:\n",
    "        parsing_stack = deque()\n",
    "\n",
    "        for token in rpn_expression:\n",
    "            if self.is_float(token):\n",
    "                parsing_stack.append(self.int_or_float(token))\n",
    "            else:\n",
    "                try:\n",
    "                    arg2 = parsing_stack.pop()\n",
    "                    arg1 = parsing_stack.pop()\n",
    "                    result = self.funcs[token](arg1, arg2)\n",
    "                    parsing_stack.append(result)\n",
    "                except IndexError:\n",
    "                    raise IncompleteExpression(token) from None\n",
    "\n",
    "        eval_result = parsing_stack.pop()\n",
    "        return eval_result\n",
    "\n",
    "    def calculate(self, input_string: str) -> Union[int, float]:\n",
    "        tokenized = [i for i in self.tokenize(input_string) if i != '']\n",
    "        rpn = self.convert_to_rpn(tokenized)\n",
    "        result = self.eval_rpn(rpn)\n",
    "\n",
    "        return result"
   ]
  },
  {
   "cell_type": "code",
   "execution_count": 338,
   "metadata": {},
   "outputs": [
    {
     "data": {
      "text/plain": [
       "1024"
      ]
     },
     "execution_count": 338,
     "metadata": {},
     "output_type": "execute_result"
    }
   ],
   "source": [
    "test_string = '2^10'\n",
    "#answer = eval(test_string)\n",
    "Calculator().calculate(test_string)"
   ]
  },
  {
   "cell_type": "code",
   "execution_count": 340,
   "metadata": {},
   "outputs": [
    {
     "data": {
      "text/plain": [
       "1024"
      ]
     },
     "execution_count": 340,
     "metadata": {},
     "output_type": "execute_result"
    }
   ],
   "source": [
    "eval('2**10')"
   ]
  },
  {
   "cell_type": "code",
   "execution_count": 337,
   "metadata": {},
   "outputs": [
    {
     "data": {
      "text/plain": [
       "False"
      ]
     },
     "execution_count": 337,
     "metadata": {},
     "output_type": "execute_result"
    }
   ],
   "source": [
    "isinstance(5, float)"
   ]
  },
  {
   "cell_type": "code",
   "execution_count": 254,
   "metadata": {},
   "outputs": [
    {
     "data": {
      "text/plain": [
       "float"
      ]
     },
     "execution_count": 254,
     "metadata": {},
     "output_type": "execute_result"
    }
   ],
   "source": [
    "type(eval('-1.'))"
   ]
  },
  {
   "cell_type": "code",
   "execution_count": 3,
   "metadata": {},
   "outputs": [
    {
     "name": "stdout",
     "output_type": "stream",
     "text": [
      "\u001b[93mWarning: No active frommets remain. Continue?\u001b[0m\n"
     ]
    }
   ],
   "source": [
    "print(f\"{bcolors.WARNING}Warning: No active frommets remain. Continue?{bcolors.ENDC}\")"
   ]
  },
  {
   "cell_type": "code",
   "execution_count": 110,
   "metadata": {},
   "outputs": [],
   "source": [
    "test_string = '-3+5'\n",
    "answer = 903"
   ]
  },
  {
   "cell_type": "code",
   "execution_count": 168,
   "metadata": {},
   "outputs": [],
   "source": [
    "precedence_levels = {\n",
    "    '^' : 9,\n",
    "    '-' : 9, #!!!\n",
    "    '*' : 8,\n",
    "    '/' : 8,\n",
    "    '%' : 8,\n",
    "    '+' : 6,\n",
    "    '-' : 6, #!!!\n",
    "    '(' : -1,\n",
    "    ')' : None\n",
    "}\n",
    "\n",
    "operators = list(filter(lambda x: x not in ['(', ')'], precedence_levels.keys()))"
   ]
  },
  {
   "cell_type": "code",
   "execution_count": 175,
   "metadata": {},
   "outputs": [],
   "source": [
    "def is_float(element: str) -> bool:\n",
    "    try:\n",
    "        float(element)\n",
    "        return True\n",
    "    except ValueError:\n",
    "        return False"
   ]
  },
  {
   "cell_type": "code",
   "execution_count": 174,
   "metadata": {},
   "outputs": [
    {
     "data": {
      "text/plain": [
       "True"
      ]
     },
     "execution_count": 174,
     "metadata": {},
     "output_type": "execute_result"
    }
   ],
   "source": [
    "is_float('-1')"
   ]
  },
  {
   "cell_type": "code",
   "execution_count": 162,
   "metadata": {},
   "outputs": [],
   "source": [
    "input = list(test_string)\n",
    "output = []\n",
    "operator_stack = deque()\n",
    "\n",
    "for token in input:\n",
    "    if token.isdigit():\n",
    "        output.append(token)\n",
    "\n",
    "    elif token in operators:\n",
    "        while True:\n",
    "            if len(operator_stack) == 0:\n",
    "                break\n",
    "            if precedence_levels[token] > precedence_levels[operator_stack[-1]]:\n",
    "                break\n",
    "\n",
    "            popped = operator_stack.pop()\n",
    "            output.append(popped)\n",
    "\n",
    "        operator_stack.append(token)\n",
    "\n",
    "    elif token == '(':\n",
    "        operator_stack.append(token)\n",
    "\n",
    "    elif token == ')':\n",
    "        while True:\n",
    "            if operator_stack[-1] == '(':\n",
    "                _ = operator_stack.pop()\n",
    "                break\n",
    "            if len(operator_stack) == 0:\n",
    "                raise ValueError('unbalanced (')\n",
    "            \n",
    "            popped = operator_stack.pop()\n",
    "            output.append(popped)\n",
    "\n",
    "    else:\n",
    "        raise ValueError('final else')\n",
    "\n",
    "while len(operator_stack) > 0:\n",
    "    stack_popped = operator_stack.pop()\n",
    "    if stack_popped == '(':\n",
    "        raise ValueError('unbalanced (')\n",
    "    \n",
    "    output.append(stack_popped)"
   ]
  },
  {
   "cell_type": "code",
   "execution_count": 163,
   "metadata": {},
   "outputs": [
    {
     "data": {
      "text/plain": [
       "['3', '-', '5', '+']"
      ]
     },
     "execution_count": 163,
     "metadata": {},
     "output_type": "execute_result"
    }
   ],
   "source": [
    "output"
   ]
  },
  {
   "cell_type": "code",
   "execution_count": 113,
   "metadata": {},
   "outputs": [
    {
     "ename": "IndexError",
     "evalue": "pop from an empty deque",
     "output_type": "error",
     "traceback": [
      "\u001b[0;31m---------------------------------------------------------------------------\u001b[0m",
      "\u001b[0;31mIndexError\u001b[0m                                Traceback (most recent call last)",
      "\u001b[0;32m/var/folders/63/q32zgnw527g9547scbl9tby00000gn/T/ipykernel_4339/1868256581.py\u001b[0m in \u001b[0;36m<module>\u001b[0;34m\u001b[0m\n\u001b[1;32m     15\u001b[0m     \u001b[0;32melse\u001b[0m\u001b[0;34m:\u001b[0m\u001b[0;34m\u001b[0m\u001b[0;34m\u001b[0m\u001b[0m\n\u001b[1;32m     16\u001b[0m         \u001b[0marg2\u001b[0m \u001b[0;34m=\u001b[0m \u001b[0mparsing_stack\u001b[0m\u001b[0;34m.\u001b[0m\u001b[0mpop\u001b[0m\u001b[0;34m(\u001b[0m\u001b[0;34m)\u001b[0m\u001b[0;34m\u001b[0m\u001b[0;34m\u001b[0m\u001b[0m\n\u001b[0;32m---> 17\u001b[0;31m         \u001b[0marg1\u001b[0m \u001b[0;34m=\u001b[0m \u001b[0mparsing_stack\u001b[0m\u001b[0;34m.\u001b[0m\u001b[0mpop\u001b[0m\u001b[0;34m(\u001b[0m\u001b[0;34m)\u001b[0m\u001b[0;34m\u001b[0m\u001b[0;34m\u001b[0m\u001b[0m\n\u001b[0m\u001b[1;32m     18\u001b[0m         \u001b[0mresult\u001b[0m \u001b[0;34m=\u001b[0m \u001b[0mfuncs\u001b[0m\u001b[0;34m[\u001b[0m\u001b[0mtoken\u001b[0m\u001b[0;34m]\u001b[0m\u001b[0;34m(\u001b[0m\u001b[0marg1\u001b[0m\u001b[0;34m,\u001b[0m \u001b[0marg2\u001b[0m\u001b[0;34m)\u001b[0m\u001b[0;34m\u001b[0m\u001b[0;34m\u001b[0m\u001b[0m\n\u001b[1;32m     19\u001b[0m         \u001b[0mparsing_stack\u001b[0m\u001b[0;34m.\u001b[0m\u001b[0mappend\u001b[0m\u001b[0;34m(\u001b[0m\u001b[0mresult\u001b[0m\u001b[0;34m)\u001b[0m\u001b[0;34m\u001b[0m\u001b[0;34m\u001b[0m\u001b[0m\n",
      "\u001b[0;31mIndexError\u001b[0m: pop from an empty deque"
     ]
    }
   ],
   "source": [
    "parsing_stack = deque()\n",
    "\n",
    "funcs = {\n",
    "  \"+\": (lambda a, b: a + b),\n",
    "  \"-\": (lambda a, b: a - b),\n",
    "  \"*\": (lambda a, b: a * b),\n",
    "  \"/\": (lambda a, b: a / b),\n",
    "  \"^\": (lambda a, b: a ** b),\n",
    "  \"%\": (lambda a, b: a % b)\n",
    "}\n",
    "\n",
    "for token in output:\n",
    "    if token.isdigit():\n",
    "        parsing_stack.append(int(token))\n",
    "    else:\n",
    "        arg2 = parsing_stack.pop()\n",
    "        arg1 = parsing_stack.pop()\n",
    "        result = funcs[token](arg1, arg2)\n",
    "        parsing_stack.append(result)\n",
    "\n",
    "eval_result = parsing_stack.pop()"
   ]
  },
  {
   "cell_type": "code",
   "execution_count": 114,
   "metadata": {},
   "outputs": [
    {
     "ename": "IndexError",
     "evalue": "pop from an empty deque",
     "output_type": "error",
     "traceback": [
      "\u001b[0;31m---------------------------------------------------------------------------\u001b[0m",
      "\u001b[0;31mIndexError\u001b[0m                                Traceback (most recent call last)",
      "\u001b[0;32m/var/folders/63/q32zgnw527g9547scbl9tby00000gn/T/ipykernel_4339/3097273424.py\u001b[0m in \u001b[0;36m<module>\u001b[0;34m\u001b[0m\n\u001b[0;32m----> 1\u001b[0;31m \u001b[0meval_result\u001b[0m \u001b[0;34m=\u001b[0m \u001b[0mparsing_stack\u001b[0m\u001b[0;34m.\u001b[0m\u001b[0mpop\u001b[0m\u001b[0;34m(\u001b[0m\u001b[0;34m)\u001b[0m\u001b[0;34m\u001b[0m\u001b[0;34m\u001b[0m\u001b[0m\n\u001b[0m",
      "\u001b[0;31mIndexError\u001b[0m: pop from an empty deque"
     ]
    }
   ],
   "source": [
    "eval_result = parsing_stack.pop()"
   ]
  },
  {
   "cell_type": "code",
   "execution_count": 115,
   "metadata": {},
   "outputs": [
    {
     "data": {
      "text/plain": [
       "18"
      ]
     },
     "execution_count": 115,
     "metadata": {},
     "output_type": "execute_result"
    }
   ],
   "source": [
    "eval_result"
   ]
  },
  {
   "cell_type": "code",
   "execution_count": null,
   "metadata": {},
   "outputs": [],
   "source": []
  }
 ],
 "metadata": {
  "kernelspec": {
   "display_name": "Python 3.9.7 ('avito')",
   "language": "python",
   "name": "python3"
  },
  "language_info": {
   "codemirror_mode": {
    "name": "ipython",
    "version": 3
   },
   "file_extension": ".py",
   "mimetype": "text/x-python",
   "name": "python",
   "nbconvert_exporter": "python",
   "pygments_lexer": "ipython3",
   "version": "3.9.7"
  },
  "orig_nbformat": 4,
  "vscode": {
   "interpreter": {
    "hash": "5a2341f07fff404428c0ad202c85fe1ba8adbd1e5f585695f92e98a112079c69"
   }
  }
 },
 "nbformat": 4,
 "nbformat_minor": 2
}
